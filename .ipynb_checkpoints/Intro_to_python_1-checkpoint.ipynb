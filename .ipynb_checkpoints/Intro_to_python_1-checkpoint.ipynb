{
 "cells": [
  {
   "cell_type": "markdown",
   "metadata": {},
   "source": [
    "# Print statements\n",
    "#To print something we type use the print command and put what we want to pint in brackets: print()"
   ]
  },
  {
   "cell_type": "code",
   "execution_count": 1,
   "metadata": {},
   "outputs": [
    {
     "name": "stdout",
     "output_type": "stream",
     "text": [
      "5\n"
     ]
    }
   ],
   "source": [
    "print(5)\n"
   ]
  },
  {
   "cell_type": "code",
   "execution_count": 2,
   "metadata": {},
   "outputs": [
    {
     "name": "stdout",
     "output_type": "stream",
     "text": [
      "15\n"
     ]
    }
   ],
   "source": [
    "print(5*3)"
   ]
  },
  {
   "cell_type": "code",
   "execution_count": 3,
   "metadata": {},
   "outputs": [
    {
     "name": "stdout",
     "output_type": "stream",
     "text": [
      "3\n",
      "I love cats\n"
     ]
    }
   ],
   "source": [
    "print(3)\n",
    "print(\"I love cats\")"
   ]
  },
  {
   "cell_type": "markdown",
   "metadata": {},
   "source": [
    "# Errors\n",
    "A lot of learning to code is about error messages. These help us work out when we have gone wrong. You will see a lot of these. Try to see them as helpful friends rather than cruel critics. They mean well. Most of the time. \n",
    "\n",
    "Computers are simple beasts. When you write a piece of code you are providing a set of instructions. While it can follow instructions, it will do precisely as you instruct, so it is key to be clear and precise. "
   ]
  },
  {
   "cell_type": "markdown",
   "metadata": {},
   "source": [
    "# Comments\n",
    "\n",
    "#Putting a hashtag at the beginning of a line denotes a comment - and instruct the programme not to read that line"
   ]
  },
  {
   "cell_type": "code",
   "execution_count": 20,
   "metadata": {},
   "outputs": [
    {
     "name": "stdout",
     "output_type": "stream",
     "text": [
      "3\n"
     ]
    }
   ],
   "source": [
    "print(3)\n",
    "# I love cats"
   ]
  },
  {
   "cell_type": "markdown",
   "metadata": {},
   "source": [
    "# Printing + Data Types\n",
    "\n",
    "\n",
    "You'll see that there are 3 different ways the code is being interpretted\n",
    "\n",
    "    print() : is a function. It tells us to execute some code on the argument pass into the brackets(()\n",
    "\n",
    "    \"This is some text\" : is textual data. We tell Python this by putting it inside quotation marks \"\". This type of textual data is known as a String.\n",
    "\n",
    "    1234 : is numerical data. This gets interpretted as numbers, as such we can do things like maths with them.\n",
    "\n"
   ]
  },
  {
   "cell_type": "markdown",
   "metadata": {},
   "source": [
    "# Variables\n",
    "\n",
    "Variables are containers for storing data values. Here we create two variables called x and y and asign each a numeric value."
   ]
  },
  {
   "cell_type": "code",
   "execution_count": 5,
   "metadata": {},
   "outputs": [],
   "source": [
    "x = 5\n",
    "y = 3"
   ]
  },
  {
   "cell_type": "code",
   "execution_count": 6,
   "metadata": {},
   "outputs": [
    {
     "name": "stdout",
     "output_type": "stream",
     "text": [
      "15\n"
     ]
    }
   ],
   "source": [
    "print(x * y)"
   ]
  },
  {
   "cell_type": "raw",
   "metadata": {},
   "source": [
    "# We can refer to variables, update and change the values"
   ]
  },
  {
   "cell_type": "code",
   "execution_count": 7,
   "metadata": {},
   "outputs": [
    {
     "name": "stdout",
     "output_type": "stream",
     "text": [
      "0\n",
      "8\n"
     ]
    }
   ],
   "source": [
    "z = 0 \n",
    "print(z)\n",
    "\n",
    "z = x + y\n",
    "print(z)"
   ]
  },
  {
   "cell_type": "code",
   "execution_count": 10,
   "metadata": {},
   "outputs": [
    {
     "name": "stdout",
     "output_type": "stream",
     "text": [
      "<built-in method lower of str object at 0x11190b810>\n"
     ]
    }
   ],
   "source": [
    "# A variable can also store letters and words enclosed in quotation marks\n",
    "\n",
    "# String variables need quotation marks\n",
    "\n",
    "phrase = \"Hello World!\"\n",
    "\n",
    "\n",
    "\n"
   ]
  },
  {
   "cell_type": "code",
   "execution_count": null,
   "metadata": {},
   "outputs": [],
   "source": [
    "#Can combine strings and ints in a print statememnt, by listing them separated by a comma\n",
    "\n",
    "print(\"z =\", z) "
   ]
  },
  {
   "cell_type": "markdown",
   "metadata": {},
   "source": [
    "# Data Types\n",
    "\n",
    "Numerical values  - integers (e.g. 56) and floats (e.g. 1.5)\n",
    "\n",
    "Strings - an array of unicode characters and must be demarcated with quotation marks (e.g. \"Hello\", 'Hello' but not \"Hello')\n",
    "\n",
    "Collection datatypes (variables that can hold multiple entries)\n",
    "\n",
    "List (may also be referred to as arrays) - a collection which is ordered and changeable. Allows duplicate members.\n",
    "Dictionary is a collection which is unordered, changeable and indexed. No duplicate members.\n",
    "\n",
    "Also, but not of interest to us here...\n",
    "Tuple - a collection which is ordered and unchangeable. Allows duplicate members.\n",
    "Set is a collection which is unordered and unindexed. No duplicate members.\n"
   ]
  },
  {
   "cell_type": "markdown",
   "metadata": {},
   "source": [
    "# Lists\n",
    "\n",
    "Lists are declared using square brackets\n",
    "\n",
    "e.g. days = []\n",
    "\n",
    "\n",
    "\n",
    "\n",
    "\n"
   ]
  },
  {
   "cell_type": "code",
   "execution_count": 12,
   "metadata": {},
   "outputs": [
    {
     "name": "stdout",
     "output_type": "stream",
     "text": [
      "['Monday', 'Tuesday', 'Wednesday', 'Thursday', 'Friday', 'Saturday', 'Sunday']\n"
     ]
    }
   ],
   "source": [
    "days = [\"Monday\", \"Tuesday\", \"Wednesday\", \"Thursday\", \"Friday\", \"Saturday\", \"Sunday\"]\n",
    "\n",
    "print(days)"
   ]
  },
  {
   "cell_type": "code",
   "execution_count": 13,
   "metadata": {},
   "outputs": [
    {
     "name": "stdout",
     "output_type": "stream",
     "text": [
      "Tuesday\n"
     ]
    }
   ],
   "source": [
    "# To refer to an instance in the list we use the index, e.g. days[1]\n",
    "\n",
    "print(days[1])"
   ]
  },
  {
   "cell_type": "code",
   "execution_count": 14,
   "metadata": {},
   "outputs": [],
   "source": [
    "# NB index starts from 0 !!!\n",
    "\n",
    "#Can you edit the code to get it to print \"Sunday\"?"
   ]
  },
  {
   "cell_type": "code",
   "execution_count": 15,
   "metadata": {},
   "outputs": [
    {
     "name": "stdout",
     "output_type": "stream",
     "text": [
      "['Wednesday', 'Thursday', 'Friday']\n"
     ]
    }
   ],
   "source": [
    "# Return the third, fourth, and fifth item:\n",
    "\n",
    "print(days[2:5])"
   ]
  },
  {
   "cell_type": "code",
   "execution_count": 16,
   "metadata": {},
   "outputs": [
    {
     "name": "stdout",
     "output_type": "stream",
     "text": [
      "['Wednesday', 'Thursday', 'Friday', 'Saturday', 'Sunday']\n"
     ]
    }
   ],
   "source": [
    "#This example returns the items from \"Wednesday\" and to the end:\n",
    "print(days[2:])"
   ]
  },
  {
   "cell_type": "code",
   "execution_count": 17,
   "metadata": {},
   "outputs": [
    {
     "name": "stdout",
     "output_type": "stream",
     "text": [
      "Sunday\n"
     ]
    }
   ],
   "source": [
    "# Print the last item of the list:\n",
    "\n",
    "print(days[-1])"
   ]
  },
  {
   "cell_type": "code",
   "execution_count": 19,
   "metadata": {},
   "outputs": [
    {
     "name": "stdout",
     "output_type": "stream",
     "text": [
      "[]\n"
     ]
    }
   ],
   "source": [
    "animals = []\n",
    "print(animals)"
   ]
  },
  {
   "cell_type": "code",
   "execution_count": 20,
   "metadata": {},
   "outputs": [],
   "source": [
    "animals.append(\"dog\")"
   ]
  },
  {
   "cell_type": "code",
   "execution_count": 21,
   "metadata": {},
   "outputs": [
    {
     "name": "stdout",
     "output_type": "stream",
     "text": [
      "['dog']\n"
     ]
    }
   ],
   "source": [
    "print(animals)"
   ]
  },
  {
   "cell_type": "markdown",
   "metadata": {},
   "source": [
    "Try addinf some more animals into your list"
   ]
  },
  {
   "cell_type": "code",
   "execution_count": 22,
   "metadata": {},
   "outputs": [],
   "source": [
    "animals.append(\"badger\")"
   ]
  },
  {
   "cell_type": "code",
   "execution_count": 23,
   "metadata": {},
   "outputs": [
    {
     "name": "stdout",
     "output_type": "stream",
     "text": [
      "['dog', 'badger']\n"
     ]
    }
   ],
   "source": [
    "print(animals)"
   ]
  },
  {
   "cell_type": "code",
   "execution_count": 24,
   "metadata": {},
   "outputs": [
    {
     "name": "stdout",
     "output_type": "stream",
     "text": [
      "['dog', 'parrot']\n"
     ]
    }
   ],
   "source": [
    "animals[1] = \"parrot\"\n",
    "print(animals)"
   ]
  },
  {
   "cell_type": "code",
   "execution_count": 26,
   "metadata": {},
   "outputs": [],
   "source": [
    "animals.append(\"fish\")"
   ]
  },
  {
   "cell_type": "code",
   "execution_count": 27,
   "metadata": {},
   "outputs": [
    {
     "name": "stdout",
     "output_type": "stream",
     "text": [
      "dog\n",
      "parrot\n",
      "fish\n"
     ]
    }
   ],
   "source": [
    "print(animals[0])\n",
    "print(animals[1])\n",
    "print(animals[2])"
   ]
  },
  {
   "cell_type": "markdown",
   "metadata": {},
   "source": [
    "# for loops\n",
    "\n",
    "You can loop through the list items by using a for loop:"
   ]
  },
  {
   "cell_type": "code",
   "execution_count": 29,
   "metadata": {},
   "outputs": [
    {
     "name": "stdout",
     "output_type": "stream",
     "text": [
      "dog\n",
      "parrot\n",
      "fish\n"
     ]
    }
   ],
   "source": [
    "for animal in animals:\n",
    "    print(animal)"
   ]
  },
  {
   "cell_type": "markdown",
   "metadata": {},
   "source": [
    "This means: \n",
    "\n",
    "for each item in animals:\n",
    "    Do what is indented. \n",
    "    \n",
    "We have used x to represent an item in the list but you can use any variable name, \n",
    "e.g \"for animal in animals:\" would also work!\n",
    "\n",
    "N.B. Indentation is important in python, and instructs the compiler of the hierachy within the code in the same way that semi colons and curly brackets are used in other languages. Try removing the indent and see what happens."
   ]
  },
  {
   "cell_type": "markdown",
   "metadata": {},
   "source": [
    "# If statements, Else\n",
    "\n",
    "Conditional commands can be very useful if you want something to only happen if certain conditions are met. For example:"
   ]
  },
  {
   "cell_type": "code",
   "execution_count": 35,
   "metadata": {},
   "outputs": [
    {
     "name": "stdout",
     "output_type": "stream",
     "text": [
      "Yes, 'apple' is in the fruits list\n"
     ]
    }
   ],
   "source": [
    "thislist = [\"apple\", \"banana\", \"cherry\", \"orange\"]\n",
    "\n",
    "if \"apple\" in thislist:\n",
    "    print(\"Yes, 'apple' is in the fruits list\")\n",
    "\n"
   ]
  },
  {
   "cell_type": "code",
   "execution_count": 36,
   "metadata": {},
   "outputs": [
    {
     "name": "stdout",
     "output_type": "stream",
     "text": [
      "4\n"
     ]
    }
   ],
   "source": [
    "print(len(thislist))"
   ]
  },
  {
   "cell_type": "code",
   "execution_count": 37,
   "metadata": {},
   "outputs": [
    {
     "name": "stdout",
     "output_type": "stream",
     "text": [
      "0\n",
      "1\n",
      "2\n",
      "3\n",
      "4\n",
      "5\n",
      "Finally finished!\n"
     ]
    }
   ],
   "source": [
    "for x in range(6):\n",
    "  print(x)\n",
    "else:\n",
    "  print(\"Finally finished!\") "
   ]
  },
  {
   "cell_type": "code",
   "execution_count": 38,
   "metadata": {},
   "outputs": [
    {
     "name": "stdout",
     "output_type": "stream",
     "text": [
      "apple\n",
      "banana\n",
      "('aaaaaaaa', 'cherry')\n",
      "orange\n"
     ]
    }
   ],
   "source": [
    "for x in thislist:\n",
    "    if \"a\" in x:\n",
    "        print(x)\n",
    "    else:\n",
    "        print(\"aaaaaaaa\", x)"
   ]
  },
  {
   "cell_type": "markdown",
   "metadata": {},
   "source": [
    "# Protected words\n",
    "\n",
    "As these examples show, certain words act as instructions to python and are reserved - this means you probably don't want to try to using them as variable names!"
   ]
  },
  {
   "cell_type": "markdown",
   "metadata": {},
   "source": [
    "# More on lists...\n",
    "\n",
    "There are many things that you can do with lists, but we won't go through them all now, but you can find out more about how you can remove and manipulate lists here: https://www.w3schools.com/python/python_lists.asp"
   ]
  },
  {
   "cell_type": "markdown",
   "metadata": {},
   "source": [
    "# Dictionaries \n",
    "\n",
    "Dictionaries are another example of a data structure. A dictionary is used to map or associate things you want to store with the keys you need to get them. A dictionary in Python is just like a dictionary in the real world.\n",
    "\n",
    "Python Dictionaries are defined into two elements Keys and Values.\n",
    "\n",
    "Keys will be a single element\n",
    "Values can be a list or list within a list, numbers, etc.\n",
    "In this tutorial, we are going to learn\n",
    "\n",
    "Dictionary is listed in curly brackets, inside these curly brackets, keys and values are declared. Each key is separated from its value by a colon (:) while each element is separated by commas."
   ]
  },
  {
   "cell_type": "code",
   "execution_count": 1,
   "metadata": {},
   "outputs": [
    {
     "name": "stdout",
     "output_type": "stream",
     "text": [
      "18\n"
     ]
    }
   ],
   "source": [
    "Dict = {'Naimh': 18,'Leon':12,'Cleo':22,'Li':25}\t\n",
    "print(Dict['Naimh'])\n",
    "\n",
    "#In code, we have dictionary name \"Dict\"\n",
    "#We declared the name and age of the person in the dictionary, where name is \"Keys\" and age is the\"value\"\n",
    "#Now run the code\n",
    "#It retrieves the age of tiffany from the dictionary."
   ]
  },
  {
   "cell_type": "code",
   "execution_count": 2,
   "metadata": {},
   "outputs": [
    {
     "name": "stdout",
     "output_type": "stream",
     "text": [
      "{'Naimh': 18, 'Leon': 12, 'Cleo': 22, 'Li': 25, 'Sarah': 9}\n"
     ]
    }
   ],
   "source": [
    "# We can add additional items to our dictionary\n",
    "#We use the method Dict.update to add Sarah to our existing dictionary\n",
    "\n",
    "Dict.update({\"Sarah\":9})\n",
    "print(Dict)"
   ]
  },
  {
   "cell_type": "code",
   "execution_count": 3,
   "metadata": {},
   "outputs": [
    {
     "name": "stdout",
     "output_type": "stream",
     "text": [
      "{'Naimh': 18, 'Cleo': 22, 'Li': 25, 'Sarah': 9}\n"
     ]
    }
   ],
   "source": [
    "del Dict ['Leon']\n",
    "print(Dict)"
   ]
  },
  {
   "cell_type": "code",
   "execution_count": 4,
   "metadata": {},
   "outputs": [
    {
     "name": "stdout",
     "output_type": "stream",
     "text": [
      "Students Name: [('Naimh', 18), ('Cleo', 22), ('Li', 25), ('Sarah', 9)]\n"
     ]
    }
   ],
   "source": [
    "print(\"Students Name: %s\" % list(Dict.items()))"
   ]
  },
  {
   "cell_type": "markdown",
   "metadata": {},
   "source": [
    "# Things to remember!\n",
    "\n",
    "Things often won't work first time. Look for easy errors like whether your indentation is corret, checking you've been consistent with your use of capitalisation and naming conventions, etc.\n",
    "\n",
    "Use the internet when you get stuck. Stackoverflow and various other webistes feature hundreds of the issues you might find yourself coming up against. Someone else has probably had a similar issue. Look at your error code and use your favourite search engine to track down how other people solved it!\n",
    "\n",
    "Don't reinvent the wheel. For many of the things you might want to do, someone has proibably already done it. Learning from other people's examples and reusing bits of their code is definitely okay!"
   ]
  },
  {
   "cell_type": "markdown",
   "metadata": {},
   "source": [
    "# Using libraries\n",
    "\n",
    "Python is that it has a very active developer community. There are an incredible amount of freely available libraries (or packages of code) that can do many of the more complicated things you might find yourself trying. \n",
    "\n",
    "Some popular ones include:\n",
    "\n",
    "For NLP - NLTK (Natural Language Tool Kit)\n",
    "\n",
    "For Data Analysis - Pandas (Python Data Analysis Library)\n",
    "\n",
    "For Data Viz, plots and graphs\n",
    "Matplotlib - for plotting graphs, Plotly & Seaborn - for prettier data visualization\n",
    "\n",
    "For machine learning - Scikit Learn\n",
    "\n",
    "For neural networks - TensorFlow "
   ]
  },
  {
   "cell_type": "markdown",
   "metadata": {},
   "source": [
    "## Importing libraries\n",
    "\n",
    "To use a library you need to tell the program that you need it.\n",
    "...\n",
    "\n",
    "The best way to install libraries is using pip - this will work if you are working with either colab or anaconda..."
   ]
  },
  {
   "cell_type": "code",
   "execution_count": 39,
   "metadata": {},
   "outputs": [],
   "source": [
    "import nltk"
   ]
  },
  {
   "cell_type": "code",
   "execution_count": 7,
   "metadata": {},
   "outputs": [
    {
     "name": "stdout",
     "output_type": "stream",
     "text": [
      "pip 21.2.4 from /Users/shaunaadmin/opt/anaconda3/envs/Python3/lib/python3.9/site-packages/pip (python 3.9)\r\n"
     ]
    }
   ],
   "source": [
    "#!pip --version\n",
    "!pip --version"
   ]
  },
  {
   "cell_type": "markdown",
   "metadata": {},
   "source": [
    "## Tasks"
   ]
  },
  {
   "cell_type": "markdown",
   "metadata": {},
   "source": [
    "For the following 4 lines. The error messages may be useful!\n",
    "\n",
    "    1. Identify what is wrong with it\n",
    "\n",
    "    2. Correct the code so it runs\n"
   ]
  },
  {
   "cell_type": "code",
   "execution_count": null,
   "metadata": {},
   "outputs": [],
   "source": [
    "print \"NLP is going to be my favourite class\""
   ]
  },
  {
   "cell_type": "code",
   "execution_count": null,
   "metadata": {},
   "outputs": [],
   "source": [
    "print(NLP is going to be my favourite class)"
   ]
  },
  {
   "cell_type": "code",
   "execution_count": null,
   "metadata": {},
   "outputs": [],
   "source": [
    "print(\"NLP is going to be my favourite class\""
   ]
  },
  {
   "cell_type": "code",
   "execution_count": null,
   "metadata": {},
   "outputs": [],
   "source": [
    "print('NLP is going to be my favourite class\")"
   ]
  }
 ],
 "metadata": {
  "kernelspec": {
   "display_name": "Python 3 (ipykernel)",
   "language": "python",
   "name": "python3"
  },
  "language_info": {
   "codemirror_mode": {
    "name": "ipython",
    "version": 3
   },
   "file_extension": ".py",
   "mimetype": "text/x-python",
   "name": "python",
   "nbconvert_exporter": "python",
   "pygments_lexer": "ipython3",
   "version": "3.9.7"
  }
 },
 "nbformat": 4,
 "nbformat_minor": 2
}
