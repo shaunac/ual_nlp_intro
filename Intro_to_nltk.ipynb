{
 "cells": [
  {
   "cell_type": "code",
   "execution_count": 39,
   "metadata": {},
   "outputs": [
    {
     "name": "stdout",
     "output_type": "stream",
     "text": [
      "showing info https://raw.githubusercontent.com/nltk/nltk_data/gh-pages/index.xml\n"
     ]
    },
    {
     "data": {
      "text/plain": [
       "True"
      ]
     },
     "execution_count": 39,
     "metadata": {},
     "output_type": "execute_result"
    }
   ],
   "source": [
    "# NLTK is one of many libraries - or packages of code that are available - Natural Language Toolkit is especially for \n",
    "# working with textual and linguistic data\n",
    "\n",
    "# pip install nltk\n",
    "import nltk\n",
    "nltk.download()"
   ]
  },
  {
   "cell_type": "code",
   "execution_count": 42,
   "metadata": {},
   "outputs": [
    {
     "data": {
      "text/plain": [
       "['NLTK is one of many libraries.',\n",
       " 'Or packages of code that are available.',\n",
       " 'Natural Language Toolkit is especially for working with textual and linguistic data']"
      ]
     },
     "execution_count": 42,
     "metadata": {},
     "output_type": "execute_result"
    }
   ],
   "source": [
    "## Tokenizing\n",
    "\n",
    "from nltk.tokenize import sent_tokenize, word_tokenize\n",
    "\n",
    "\n",
    "EXAMPLE_TEXT = \"NLTK is one of many libraries. Or packages of code that are available. Natural Language Toolkit is especially for working with textual and linguistic data\"\n",
    "\n",
    "\n",
    "sent_tokenize(EXAMPLE_TEXT)\n"
   ]
  },
  {
   "cell_type": "code",
   "execution_count": 3,
   "metadata": {},
   "outputs": [
    {
     "name": "stdout",
     "output_type": "stream",
     "text": [
      "['Hello', 'Mr.', 'Smith', ',', 'how', 'are', 'you', 'doing', 'today', '?', 'The', 'weather', 'is', 'great', ',', 'and', 'Python', 'is', 'awesome', '.', 'The', 'sky', 'is', 'pinkish-blue', '.', 'You', 'should', \"n't\", 'eat', 'cardboard', '.']\n"
     ]
    }
   ],
   "source": [
    "print(word_tokenize(EXAMPLE_TEXT))"
   ]
  },
  {
   "cell_type": "code",
   "execution_count": 4,
   "metadata": {},
   "outputs": [
    {
     "name": "stdout",
     "output_type": "stream",
     "text": [
      "The weather is great, and Python is awesome.\n",
      "today\n"
     ]
    }
   ],
   "source": [
    "## Arrays\n",
    "\n",
    "sentences = []\n",
    "sentences = sent_tokenize(EXAMPLE_TEXT)\n",
    "words = word_tokenize(EXAMPLE_TEXT)\n",
    "print(sentences[1])\n",
    "print(words[8])"
   ]
  },
  {
   "cell_type": "markdown",
   "metadata": {},
   "source": [
    "# Removing stop words"
   ]
  },
  {
   "cell_type": "code",
   "execution_count": 5,
   "metadata": {},
   "outputs": [],
   "source": [
    "from nltk.corpus import stopwords"
   ]
  },
  {
   "cell_type": "code",
   "execution_count": 6,
   "metadata": {},
   "outputs": [
    {
     "data": {
      "text/plain": [
       "{u'a',\n",
       " u'about',\n",
       " u'above',\n",
       " u'after',\n",
       " u'again',\n",
       " u'against',\n",
       " u'ain',\n",
       " u'all',\n",
       " u'am',\n",
       " u'an',\n",
       " u'and',\n",
       " u'any',\n",
       " u'are',\n",
       " u'aren',\n",
       " u\"aren't\",\n",
       " u'as',\n",
       " u'at',\n",
       " u'be',\n",
       " u'because',\n",
       " u'been',\n",
       " u'before',\n",
       " u'being',\n",
       " u'below',\n",
       " u'between',\n",
       " u'both',\n",
       " u'but',\n",
       " u'by',\n",
       " u'can',\n",
       " u'couldn',\n",
       " u\"couldn't\",\n",
       " u'd',\n",
       " u'did',\n",
       " u'didn',\n",
       " u\"didn't\",\n",
       " u'do',\n",
       " u'does',\n",
       " u'doesn',\n",
       " u\"doesn't\",\n",
       " u'doing',\n",
       " u'don',\n",
       " u\"don't\",\n",
       " u'down',\n",
       " u'during',\n",
       " u'each',\n",
       " u'few',\n",
       " u'for',\n",
       " u'from',\n",
       " u'further',\n",
       " u'had',\n",
       " u'hadn',\n",
       " u\"hadn't\",\n",
       " u'has',\n",
       " u'hasn',\n",
       " u\"hasn't\",\n",
       " u'have',\n",
       " u'haven',\n",
       " u\"haven't\",\n",
       " u'having',\n",
       " u'he',\n",
       " u'her',\n",
       " u'here',\n",
       " u'hers',\n",
       " u'herself',\n",
       " u'him',\n",
       " u'himself',\n",
       " u'his',\n",
       " u'how',\n",
       " u'i',\n",
       " u'if',\n",
       " u'in',\n",
       " u'into',\n",
       " u'is',\n",
       " u'isn',\n",
       " u\"isn't\",\n",
       " u'it',\n",
       " u\"it's\",\n",
       " u'its',\n",
       " u'itself',\n",
       " u'just',\n",
       " u'll',\n",
       " u'm',\n",
       " u'ma',\n",
       " u'me',\n",
       " u'mightn',\n",
       " u\"mightn't\",\n",
       " u'more',\n",
       " u'most',\n",
       " u'mustn',\n",
       " u\"mustn't\",\n",
       " u'my',\n",
       " u'myself',\n",
       " u'needn',\n",
       " u\"needn't\",\n",
       " u'no',\n",
       " u'nor',\n",
       " u'not',\n",
       " u'now',\n",
       " u'o',\n",
       " u'of',\n",
       " u'off',\n",
       " u'on',\n",
       " u'once',\n",
       " u'only',\n",
       " u'or',\n",
       " u'other',\n",
       " u'our',\n",
       " u'ours',\n",
       " u'ourselves',\n",
       " u'out',\n",
       " u'over',\n",
       " u'own',\n",
       " u're',\n",
       " u's',\n",
       " u'same',\n",
       " u'shan',\n",
       " u\"shan't\",\n",
       " u'she',\n",
       " u\"she's\",\n",
       " u'should',\n",
       " u\"should've\",\n",
       " u'shouldn',\n",
       " u\"shouldn't\",\n",
       " u'so',\n",
       " u'some',\n",
       " u'such',\n",
       " u't',\n",
       " u'than',\n",
       " u'that',\n",
       " u\"that'll\",\n",
       " u'the',\n",
       " u'their',\n",
       " u'theirs',\n",
       " u'them',\n",
       " u'themselves',\n",
       " u'then',\n",
       " u'there',\n",
       " u'these',\n",
       " u'they',\n",
       " u'this',\n",
       " u'those',\n",
       " u'through',\n",
       " u'to',\n",
       " u'too',\n",
       " u'under',\n",
       " u'until',\n",
       " u'up',\n",
       " u've',\n",
       " u'very',\n",
       " u'was',\n",
       " u'wasn',\n",
       " u\"wasn't\",\n",
       " u'we',\n",
       " u'were',\n",
       " u'weren',\n",
       " u\"weren't\",\n",
       " u'what',\n",
       " u'when',\n",
       " u'where',\n",
       " u'which',\n",
       " u'while',\n",
       " u'who',\n",
       " u'whom',\n",
       " u'why',\n",
       " u'will',\n",
       " u'with',\n",
       " u'won',\n",
       " u\"won't\",\n",
       " u'wouldn',\n",
       " u\"wouldn't\",\n",
       " u'y',\n",
       " u'you',\n",
       " u\"you'd\",\n",
       " u\"you'll\",\n",
       " u\"you're\",\n",
       " u\"you've\",\n",
       " u'your',\n",
       " u'yours',\n",
       " u'yourself',\n",
       " u'yourselves'}"
      ]
     },
     "execution_count": 6,
     "metadata": {},
     "output_type": "execute_result"
    }
   ],
   "source": [
    " set(stopwords.words('english'))"
   ]
  },
  {
   "cell_type": "code",
   "execution_count": 7,
   "metadata": {},
   "outputs": [],
   "source": [
    "stop_words = set(stopwords.words('english'))\n",
    "word_tokens = word_tokenize(EXAMPLE_TEXT)"
   ]
  },
  {
   "cell_type": "code",
   "execution_count": 8,
   "metadata": {},
   "outputs": [],
   "source": [
    "filtered_sentence = [w for w in word_tokens if not w in stop_words]\n",
    "\n",
    "filtered_sentence = []\n",
    "\n",
    "for w in word_tokens:\n",
    "    if w not in stop_words:\n",
    "        filtered_sentence.append(w)"
   ]
  },
  {
   "cell_type": "code",
   "execution_count": 9,
   "metadata": {},
   "outputs": [
    {
     "name": "stdout",
     "output_type": "stream",
     "text": [
      "['Hello', 'Mr.', 'Smith', ',', 'how', 'are', 'you', 'doing', 'today', '?', 'The', 'weather', 'is', 'great', ',', 'and', 'Python', 'is', 'awesome', '.', 'The', 'sky', 'is', 'pinkish-blue', '.', 'You', 'should', \"n't\", 'eat', 'cardboard', '.']\n",
      "['Hello', 'Mr.', 'Smith', ',', 'today', '?', 'The', 'weather', 'great', ',', 'Python', 'awesome', '.', 'The', 'sky', 'pinkish-blue', '.', 'You', \"n't\", 'eat', 'cardboard', '.']\n"
     ]
    }
   ],
   "source": [
    "print(word_tokens)\n",
    "print(filtered_sentence)"
   ]
  },
  {
   "cell_type": "markdown",
   "metadata": {},
   "source": [
    "# Stemming"
   ]
  },
  {
   "cell_type": "code",
   "execution_count": 10,
   "metadata": {},
   "outputs": [],
   "source": [
    "from nltk.stem import PorterStemmer\n",
    "from nltk.tokenize import sent_tokenize, word_tokenize\n",
    "\n",
    "ps = PorterStemmer()"
   ]
  },
  {
   "cell_type": "code",
   "execution_count": 11,
   "metadata": {},
   "outputs": [],
   "source": [
    "example_words = [\"python\",\"pythoner\",\"pythoning\",\"pythoned\",\"pythonly\"]"
   ]
  },
  {
   "cell_type": "code",
   "execution_count": 12,
   "metadata": {},
   "outputs": [
    {
     "name": "stdout",
     "output_type": "stream",
     "text": [
      "python\n",
      "python\n",
      "python\n",
      "python\n",
      "pythonli\n"
     ]
    }
   ],
   "source": [
    "for w in example_words:\n",
    "    print(ps.stem(w))"
   ]
  },
  {
   "cell_type": "code",
   "execution_count": 13,
   "metadata": {},
   "outputs": [],
   "source": [
    "new_text = \"It is important to be very pythonly while you are pythoning with python. \n",
    "                All pythoners have pythoned poorly at least once.\""
   ]
  },
  {
   "cell_type": "code",
   "execution_count": 14,
   "metadata": {},
   "outputs": [
    {
     "name": "stdout",
     "output_type": "stream",
     "text": [
      "It\n",
      "is\n",
      "import\n",
      "to\n",
      "be\n",
      "veri\n",
      "pythonli\n",
      "while\n",
      "you\n",
      "are\n",
      "python\n",
      "with\n",
      "python\n",
      ".\n",
      "all\n",
      "python\n",
      "have\n",
      "python\n",
      "poorli\n",
      "at\n",
      "least\n",
      "onc\n",
      ".\n"
     ]
    }
   ],
   "source": [
    "words = word_tokenize(new_text)\n",
    "\n",
    "for w in words:\n",
    "    print(ps.stem(w))"
   ]
  },
  {
   "cell_type": "markdown",
   "metadata": {},
   "source": [
    "# Lematization"
   ]
  },
  {
   "cell_type": "code",
   "execution_count": 43,
   "metadata": {},
   "outputs": [
    {
     "name": "stdout",
     "output_type": "stream",
     "text": [
      "cat\n",
      "cactus\n",
      "goose\n",
      "rock\n",
      "python\n",
      "good\n",
      "best\n",
      "run\n",
      "run\n"
     ]
    }
   ],
   "source": [
    "from nltk.stem import WordNetLemmatizer\n",
    "\n",
    "lemmatizer = WordNetLemmatizer()\n",
    "\n",
    "print(lemmatizer.lemmatize(\"cats\"))\n",
    "print(lemmatizer.lemmatize(\"cacti\"))\n",
    "print(lemmatizer.lemmatize(\"geese\"))\n",
    "print(lemmatizer.lemmatize(\"rocks\"))\n",
    "print(lemmatizer.lemmatize(\"python\"))\n",
    "print(lemmatizer.lemmatize(\"better\", pos=\"a\"))\n",
    "print(lemmatizer.lemmatize(\"best\", pos=\"a\"))\n",
    "print(lemmatizer.lemmatize(\"run\"))\n",
    "print(lemmatizer.lemmatize(\"run\",'v'))"
   ]
  },
  {
   "cell_type": "code",
   "execution_count": 44,
   "metadata": {},
   "outputs": [
    {
     "name": "stdout",
     "output_type": "stream",
     "text": [
      "stone\n",
      "speak\n",
      "bedroom\n",
      "joke\n",
      "lisa\n",
      "purpl\n",
      "----------------------\n",
      "stone\n",
      "speaking\n",
      "bedroom\n",
      "joke\n",
      "lisa\n",
      "purple\n"
     ]
    }
   ],
   "source": [
    "from nltk.stem import WordNetLemmatizer \n",
    "from nltk.stem import PorterStemmer \n",
    "stemmer = PorterStemmer() \n",
    "lemmatizer = WordNetLemmatizer() \n",
    "print(stemmer.stem('stones')) \n",
    "print(stemmer.stem('speaking')) \n",
    "print(stemmer.stem('bedroom')) \n",
    "print(stemmer.stem('jokes')) \n",
    "print(stemmer.stem('lisa')) \n",
    "print(stemmer.stem('purple')) \n",
    "print('----------------------') \n",
    "print(lemmatizer.lemmatize('stones')) \n",
    "print(lemmatizer.lemmatize('speaking'))\n",
    "print(lemmatizer.lemmatize('bedroom'))\n",
    "print(lemmatizer.lemmatize('jokes'))\n",
    "print(lemmatizer.lemmatize('lisa'))\n",
    "print(lemmatizer.lemmatize('purple'))"
   ]
  },
  {
   "cell_type": "markdown",
   "metadata": {},
   "source": [
    "# Part-of-speech tagging"
   ]
  },
  {
   "cell_type": "code",
   "execution_count": 29,
   "metadata": {},
   "outputs": [],
   "source": [
    "import nltk\n",
    "from nltk.corpus import state_union\n",
    "from nltk.tokenize import PunktSentenceTokenizer"
   ]
  },
  {
   "cell_type": "code",
   "execution_count": 30,
   "metadata": {},
   "outputs": [],
   "source": [
    "train_text = state_union.raw(\"2005-GWBush.txt\")\n",
    "sample_text = state_union.raw(\"2006-GWBush.txt\")"
   ]
  },
  {
   "cell_type": "code",
   "execution_count": 31,
   "metadata": {},
   "outputs": [],
   "source": [
    "custom_sent_tokenizer = PunktSentenceTokenizer(train_text)"
   ]
  },
  {
   "cell_type": "code",
   "execution_count": 32,
   "metadata": {},
   "outputs": [],
   "source": [
    "tokenized = custom_sent_tokenizer.tokenize(sample_text)"
   ]
  },
  {
   "cell_type": "code",
   "execution_count": null,
   "metadata": {},
   "outputs": [],
   "source": []
  },
  {
   "cell_type": "code",
   "execution_count": 33,
   "metadata": {},
   "outputs": [
    {
     "name": "stdout",
     "output_type": "stream",
     "text": [
      "[(u\"PRESIDENT GEORGE W. BUSH'S ADDRESS BEFORE A JOINT SESSION OF THE CONGRESS ON THE STATE OF THE UNION\\n \\nJanuary 31, 2006\\n\\nTHE PRESIDENT: Thank you all.\", 'NNP'), (u'Mr. Speaker, Vice President Cheney, members of Congress, members of the Supreme Court and diplomatic corps, distinguished guests, and fellow citizens: Today our nation lost a beloved, graceful, courageous woman who called America to its founding ideals and carried on a noble dream.', 'NNP'), (u'Tonight we are comforted by the hope of a glad reunion with the husband who was taken so long ago, and we are grateful for the good life of Coretta Scott King.', 'NNP'), (u'(Applause.)', 'NNP'), (u'President George W. Bush reacts to applause during his State of the Union Address at the Capitol, Tuesday, Jan.', 'NNP'), (u'31, 2006.', 'CD'), (u\"White House photo by Eric DraperEvery time I'm invited to this rostrum, I'm humbled by the privilege, and mindful of the history we've seen together.\", 'NNP'), (u'We have gathered under this Capitol dome in moments of national mourning and national achievement.', 'NNP'), (u'We have served America through one of the most consequential periods of our history -- and it has been my honor to serve with you.', 'NNP'), (u'In a system of two parties, two chambers, and two elected branches, there will always be differences and debate.', 'NNP'), (u'But even tough debates can be conducted in a civil tone, and our differences cannot be allowed to harden into anger.', 'NNP'), (u'To confront the great issues before us, we must act in a spirit of goodwill and respect for one another -- and I will do my part.', 'NNP'), (u'Tonight the state of our Union is strong -- and together we will make it stronger.', 'NNP'), (u'(Applause.)', 'NNP'), (u'In this decisive year, you and I will make choices that determine both the future and the character of our country.', 'NNP'), (u'We will choose to act confidently in pursuing the enemies of freedom -- or retreat from our duties in the hope of an easier life.', 'JJ'), (u'We will choose to build our prosperity by leading the world economy -- or shut ourselves off from trade and opportunity.', 'JJ'), (u'In a complex and challenging time, the road of isolationism and protectionism may seem broad and inviting -- yet it ends in danger and decline.', 'JJ'), (u'The only way to protect our people, the only way to secure the peace, the only way to control our destiny is by our leadership -- so the United States of America will continue to lead.', 'JJ'), (u'(Applause.)', 'JJ'), (u'Abroad, our nation is committed to an historic, long-term goal -- we seek the end of tyranny in our world.', 'NNP'), (u'Some dismiss that goal as misguided idealism.', 'NNP'), (u'In reality, the future security of America depends on it.', 'NNP'), (u'On September the 11th, 2001, we found that problems originating in a failed and oppressive state 7,000 miles away could bring murder and destruction to our country.', 'NNP'), (u'Dictatorships shelter terrorists, and feed resentment and radicalism, and seek weapons of mass destruction.', 'NNP'), (u'Democracies replace resentment with hope, respect the rights of their citizens and their neighbors, and join the fight against terror.', 'NNP'), (u\"Every step toward freedom in the world makes our country safer -- so we will act boldly in freedom's cause.\", 'NNP'), (u'(Applause.)', 'NNP'), (u'Far from being a hopeless dream, the advance of freedom is the great story of our time.', 'NNP'), (u'In 1945, there were about two dozen lonely democracies in the world.', 'NNP'), (u'Today, there are 122.', 'NNP'), (u\"And we're writing a new chapter in the story of self-government -- with women lining up to vote in Afghanistan, and millions of Iraqis marking their liberty with purple ink, and men and women from Lebanon to Egypt debating the rights of individuals and the necessity of freedom.\", 'NNP'), (u'At the start of 2006, more than half the people of our world live in democratic nations.', 'NNP'), (u'And we do not forget the other half -- in places like Syria and Burma, Zimbabwe, North Korea, and Iran -- because the demands of justice, and the peace of this world, require their freedom, as well.', 'NNP'), (u'(Applause.)', 'NNP'), (u'President George W. Bush delivers his State of the Union Address at the Capitol, Tuesday, Jan.', 'NNP'), (u'31, 2006.', 'CD'), (u'White House photo by Eric Draper No one can deny the success of freedom, but some men rage and fight against it.', 'NNP'), (u'And one of the main sources of reaction and opposition is radical Islam -- the perversion by a few of a noble faith into an ideology of terror and death.', 'NNP'), (u'Terrorists like bin Laden are serious about mass murder -- and all of us must take their declared intentions seriously.', 'NNP'), (u'They seek to impose a heartless system of totalitarian control throughout the Middle East, and arm themselves with weapons of mass murder.', 'NNP'), (u'Their aim is to seize power in Iraq, and use it as a safe haven to launch attacks against America and the world.', 'NNP'), (u'Lacking the military strength to challenge us directly, the terrorists have chosen the weapon of fear.', 'NNP'), (u'When they murder children at a school in Beslan, or blow up commuters in London, or behead a bound captive, the terrorists hope these horrors will break our will, allowing the violent to inherit the Earth.', 'NNP'), (u'But they have miscalculated: We love our freedom, and we will fight to keep it.', 'NNP'), (u'(Applause.)', 'NNP'), (u'In a time of testing, we cannot find security by abandoning our commitments and retreating within our borders.', 'NNP'), (u'If we were to leave these vicious attackers alone, they would not leave us alone.', 'NNP'), (u'They would simply move the battlefield to our own shores.', 'NNP'), (u'There is no peace in retreat.', 'NNP'), (u'And there is no honor in retreat.', 'NNP'), (u'By allowing radical Islam to work its will -- by leaving an assaulted world to fend for itself -- we would signal to all that we no longer believe in our own ideals, or even in our own courage.', 'NNP'), (u'But our enemies and our friends can be certain: The United States will not retreat from the world, and we will never surrender to evil.', 'NNP'), (u'(Applause.)', 'NNP'), (u'America rejects the false comfort of isolationism.', 'NNP'), (u'We are the nation that saved liberty in Europe, and liberated death camps, and helped raise up democracies, and faced down an evil empire.', 'NNP'), (u'Once again, we accept the call of history to deliver the oppressed and move this world toward peace.', 'NNP'), (u'We remain on the offensive against terror networks.', 'NNP'), (u'We have killed or captured many of their leaders -- and for the others, their day will come.', 'NNP'), (u'President George W. Bush greets members of Congress after his State of the Union Address at the Capitol, Tuesday, Jan.', 'NNP'), (u'31, 2006.', 'CD'), (u'White House photo by Eric Draper We remain on the offensive in Afghanistan, where a fine President and a National Assembly are fighting terror while building the institutions of a new democracy.', 'NNP'), (u\"We're on the offensive in Iraq, with a clear plan for victory.\", 'NNP'), (u\"First, we're helping Iraqis build an inclusive government, so that old resentments will be eased and the insurgency will be marginalized.\", 'NNP'), (u\"Second, we're continuing reconstruction efforts, and helping the Iraqi government to fight corruption and build a modern economy, so all Iraqis can experience the benefits of freedom.\", 'NNP'), (u\"And, third, we're striking terrorist targets while we train Iraqi forces that are increasingly capable of defeating the enemy.\", 'NNP'), (u'Iraqis are showing their courage every day, and we are proud to be their allies in the cause of freedom.', 'NNP'), (u'(Applause.)', 'NNP'), (u'Our work in Iraq is difficult because our enemy is brutal.', 'NNP'), (u'But that brutality has not stopped the dramatic progress of a new democracy.', 'NNP'), (u'In less than three years, the nation has gone from dictatorship to liberation, to sovereignty, to a constitution, to national elections.', 'NNP'), (u'At the same time, our coalition has been relentless in shutting off terrorist infiltration, clearing out insurgent strongholds, and turning over territory to Iraqi security forces.', 'NNP'), (u'I am confident in our plan for victory; I am confident in the will of the Iraqi people; I am confident in the skill and spirit of our military.', 'NNP'), (u'Fellow citizens, we are in this fight to win, and we are winning.', 'NNP'), (u'(Applause.)', 'NNP'), (u'The road of victory is the road that will take our troops home.', 'NNP'), (u'As we make progress on the ground, and Iraqi forces increasingly take the lead, we should be able to further decrease our troop levels -- but those decisions will be made by our military commanders, not by politicians in Washington, D.C.', 'NNP'), (u'(Applause.)', 'NNP'), (u'Our coalition has learned from our experience in Iraq.', 'NNP'), (u\"We've adjusted our military tactics and changed our approach to reconstruction.\", 'NNP'), (u'Along the way, we have benefitted from responsible criticism and counsel offered by members of Congress of both parties.', 'NNP'), (u'In the coming year, I will continue to reach out and seek your good advice.', 'NNP'), (u'Yet, there is a difference between responsible criticism that aims for success, and defeatism that refuses to acknowledge anything but failure.', 'NNP'), (u'(Applause.)', 'NNP'), (u'Hindsight alone is not wisdom, and second-guessing is not a strategy.', 'NNP'), (u'(Applause.)', 'NNP'), (u'With so much in the balance, those of us in public office have a duty to speak with candor.', 'NNP'), (u'A sudden withdrawal of our forces from Iraq would abandon our Iraqi allies to death and prison, would put men like bin Laden and Zarqawi in charge of a strategic country, and show that a pledge from America means little.', 'NNP'), (u'Members of Congress, however we feel about the decisions and debates of the past, our nation has only one option: We must keep our word, defeat our enemies, and stand behind the American military in this vital mission.', 'NNP'), (u'(Applause.)', 'NNP'), (u'Laura Bush is applauded as she is introduced Tuesday evening, Jan.', 'NNP'), (u'31, 2006 during the State of the Union Address at United States Capitol in Washington.', 'CD'), (u'White House photo by Eric Draper Our men and women in uniform are making sacrifices -- and showing a sense of duty stronger than all fear.', 'NNP'), (u\"They know what it's like to fight house to house in a maze of streets, to wear heavy gear in the desert heat, to see a comrade killed by a roadside bomb.\", 'NNP'), (u'And those who know the costs also know the stakes.', 'NNP'), (u'Marine Staff Sergeant Dan Clay was killed last month fighting in Fallujah.', 'NNP'), (u'He left behind a letter to his family, but his words could just as well be addressed to every American.', 'NNP'), (u'Here is what Dan wrote: \"I know what honor is.', 'NNP'), (u'... It has been an honor to protect and serve all of you.', 'NNP'), (u'I faced death with the secure knowledge that you would not have to....', 'NNP'), (u'Never falter!', 'NNP'), (u'Don\\'t hesitate to honor and support those of us who have the honor of protecting that which is worth protecting.\"', 'NNP'), (u\"Staff Sergeant Dan Clay's wife, Lisa, and his mom and dad, Sara Jo and Bud, are with us this evening.\", 'NNP'), (u'Welcome.', 'NNP'), (u'(Applause.)', 'NNP'), (u'Our nation is grateful to the fallen, who live in the memory of our country.', 'NNP'), (u\"We're grateful to all who volunteer to wear our nation's uniform -- and as we honor our brave troops, let us never forget the sacrifices of America's military families.\", 'NNP'), (u'(Applause.)', 'NNP'), (u'Our offensive against terror involves more than military action.', 'NNP'), (u'Ultimately, the only way to defeat the terrorists is to defeat their dark vision of hatred and fear by offering the hopeful alternative of political freedom and peaceful change.', 'NNP'), (u'So the United States of America supports democratic reform across the broader Middle East.', 'NNP'), (u'Elections are vital, but they are only the beginning.', 'NNP'), (u'Raising up a democracy requires the rule of law, and protection of minorities, and strong, accountable institutions that last longer than a single vote.', 'NNP'), (u'The great people of Egypt have voted in a multi-party presidential election -- and now their government should open paths of peaceful opposition that will reduce the appeal of radicalism.', 'NNP'), (u'The Palestinian people have voted in elections.', 'NNP'), (u'And now the leaders of Hamas must recognize Israel, disarm, reject terrorism, and work for lasting peace.', 'NNP'), (u'(Applause.)', 'NNP'), (u'Saudi Arabia has taken the first steps of reform -- now it can offer its people a better future by pressing forward with those efforts.', 'NNP'), (u'Democracies in the Middle East will not look like our own, because they will reflect the traditions of their own citizens.', 'NNP'), (u'Yet liberty is the future of every nation in the Middle East, because liberty is the right and hope of all humanity.', 'NNP'), (u'(Applause.)', 'NNP'), (u'President George W. Bush waves toward the upper visitors gallery of the House Chamber following his State of the Union remarks Tuesday, Jan.', 'NNP'), (u'31, 2006 at the United States Capitol.', 'CD'), (u'White House photo by Eric Draper The same is true of Iran, a nation now held hostage by a small clerical elite that is isolating and repressing its people.', 'NNP'), (u'The regime in that country sponsors terrorists in the Palestinian territories and in Lebanon -- and that must come to an end.', 'NNP'), (u'(Applause.)', 'NNP'), (u'The Iranian government is defying the world with its nuclear ambitions, and the nations of the world must not permit the Iranian regime to gain nuclear weapons.', 'NNP'), (u'(Applause.)', 'NNP'), (u'America will continue to rally the world to confront these threats.', 'NNP'), (u'Tonight, let me speak directly to the citizens of Iran: America respects you, and we respect your country.', 'NNP'), (u'We respect your right to choose your own future and win your own freedom.', 'NNP'), (u'And our nation hopes one day to be the closest of friends with a free and democratic Iran.', 'NNP'), (u'(Applause.)', 'NNP'), (u'To overcome dangers in our world, we must also take the offensive by encouraging economic progress, and fighting disease, and spreading hope in hopeless lands.', 'NNP'), (u'Isolationism would not only tie our hands in fighting enemies, it would keep us from helping our friends in desperate need.', 'NNP'), (u'We show compassion abroad because Americans believe in the God-given dignity and worth of a villager with HIV/AIDS, or an infant with malaria, or a refugee fleeing genocide, or a young girl sold into slavery.', 'NNP'), (u'We also show compassion abroad because regions overwhelmed by poverty, corruption, and despair are sources of terrorism, and organized crime, and human trafficking, and the drug trade.', 'NNP'), (u'In recent years, you and I have taken unprecedented action to fight AIDS and malaria, expand the education of girls, and reward developing nations that are moving forward with economic and political reform.', 'NNP'), (u'For people everywhere, the United States is a partner for a better life.', 'NNP'), (u'Short-changing these efforts would increase the suffering and chaos of our world, undercut our long-term security, and dull the conscience of our country.', 'NNP'), (u'I urge members of Congress to serve the interests of America by showing the compassion of America.', 'NNP'), (u'Our country must also remain on the offensive against terrorism here at home.', 'NNP'), (u'The enemy has not lost the desire or capability to attack us.', 'NNP'), (u'Fortunately, this nation has superb professionals in law enforcement, intelligence, the military, and homeland security.', 'NNP'), (u'These men and women are dedicating their lives, protecting us all, and they deserve our support and our thanks.', 'NNP'), (u'(Applause.)', 'NNP'), (u'They also deserve the same tools they already use to fight drug trafficking and organized crime -- so I ask you to reauthorize the Patriot Act.', 'NNP'), (u'(Applause.)', 'NNP'), (u'It is said that prior to the attacks of September the 11th, our government failed to connect the dots of the conspiracy.', 'NNP'), (u'We now know that two of the hijackers in the United States placed telephone calls to al Qaeda operatives overseas.', 'NNP'), (u'But we did not know about their plans until it was too late.', 'NNP'), (u'So to prevent another attack -- based on authority given to me by the Constitution and by statute -- I have authorized a terrorist surveillance program to aggressively pursue the international communications of suspected al Qaeda operatives and affiliates to and from America.', 'NNP'), (u'Previous Presidents have used the same constitutional authority I have, and federal courts have approved the use of that authority.', 'NNP'), (u'Appropriate members of Congress have been kept informed.', 'NNP'), (u'The terrorist surveillance program has helped prevent terrorist attacks.', 'NNP'), (u'It remains essential to the security of America.', 'NNP'), (u'If there are people inside our country who are talking with al Qaeda, we want to know about it, because we will not sit back and wait to be hit again.', 'NNP'), (u'(Applause.)', 'NNP'), (u'In all these areas -- from the disruption of terror networks, to victory in Iraq, to the spread of freedom and hope in troubled regions -- we need the support of our friends and allies.', 'NNP'), (u'To draw that support, we must always be clear in our principles and willing to act.', 'NNP'), (u'The only alternative to American leadership is a dramatically more dangerous and anxious world.', 'NNP'), (u'Yet we also choose to lead because it is a privilege to serve the values that gave us birth.', 'NNP'), (u'American leaders -- from Roosevelt to Truman to Kennedy to Reagan -- rejected isolation and retreat, because they knew that America is always more secure when freedom is on the march.', 'NNP'), (u'Our own generation is in a long war against a determined enemy -- a war that will be fought by Presidents of both parties, who will need steady bipartisan support from the Congress.', 'NNP'), (u'And tonight I ask for yours.', 'NNP'), (u'Together, let us protect our country, support the men and women who defend us, and lead this world toward freedom.', 'NNP'), (u'(Applause.)', 'NNP'), (u'Here at home, America also has a great opportunity: We will build the prosperity of our country by strengthening our economic leadership in the world.', 'NNP'), (u'Our economy is healthy and vigorous, and growing faster than other major industrialized nations.', 'NNP'), (u'In the last two-and-a-half years, America has created 4.6 million new jobs -- more than Japan and the European Union combined.', 'NNP'), (u'(Applause.)', 'NNP'), (u'Even in the face of higher energy prices and natural disasters, the American people have turned in an economic performance that is the envy of the world.', 'NNP'), (u'The American economy is preeminent, but we cannot afford to be complacent.', 'NNP'), (u\"In a dynamic world economy, we are seeing new competitors, like China and India, and this creates uncertainty, which makes it easier to feed people's fears.\", 'NNP'), (u\"So we're seeing some old temptations return.\", 'NNP'), (u'Protectionists want to escape competition, pretending that we can keep our high standard of living while walling off our economy.', 'NNP'), (u'Others say that the government needs to take a larger role in directing the economy, centralizing more power in Washington and increasing taxes.', 'NNP'), (u'We hear claims that immigrants are somehow bad for the economy -- even though this economy could not function without them.', 'NNP'), (u'(Applause.)', 'NNP'), (u'All these are forms of economic retreat, and they lead in the same direction -- toward a stagnant and second-rate economy.', 'NNP'), (u'Tonight I will set out a better path: an agenda for a nation that competes with confidence; an agenda that will raise standards of living and generate new jobs.', 'NNP'), (u'Americans should not fear our economic future, because we intend to shape it.', 'NNP'), (u'Keeping America competitive begins with keeping our economy growing.', 'NNP'), (u'And our economy grows when Americans have more of their own money to spend, save, and invest.', 'NNP'), (u'In the last five years, the tax relief you passed has left $880 billion in the hands of American workers, investors, small businesses, and families -- and they have used it to help produce more than four years of uninterrupted economic growth.', 'NNP'), (u'(Applause.)', 'NNP'), (u'Yet the tax relief is set to expire in the next few years.', 'NNP'), (u'If we do nothing, American families will face a massive tax increase they do not expect and will not welcome.', 'NNP'), (u'Because America needs more than a temporary expansion, we need more than temporary tax relief.', 'NNP'), (u'I urge the Congress to act responsibly, and make the tax cuts permanent.', 'NNP'), (u'(Applause.)', 'NNP'), (u'Keeping America competitive requires us to be good stewards of tax dollars.', 'NNP'), (u\"Every year of my presidency, we've reduced the growth of non-security discretionary spending, and last year you passed bills that cut this spending.\", 'NNP'), (u'This year my budget will cut it again, and reduce or eliminate more than 140 programs that are performing poorly or not fulfilling essential priorities.', 'NNP'), (u'By passing these reforms, we will save the American taxpayer another $14 billion next year, and stay on track to cut the deficit in half by 2009.', 'NNP'), (u'(Applause.)', 'NNP'), (u'I am pleased that members of Congress are working on earmark reform, because the federal budget has too many special interest projects.', 'NNP'), (u'(Applause.)', 'NNP'), (u'And we can tackle this problem together, if you pass the line-item veto.', 'NNP'), (u'(Applause.)', 'NNP'), (u'We must also confront the larger challenge of mandatory spending, or entitlements.', 'NNP'), (u\"This year, the first of about 78 million baby boomers turn 60, including two of my Dad's favorite people -- me and President Clinton.\", 'NNP'), (u'(Laughter.)', 'NNP'), (u'This milestone is more than a personal crisis -- (laughter) -- it is a national challenge.', 'NNP'), (u'The retirement of the baby boom generation will put unprecedented strains on the federal government.', 'NNP'), (u'By 2030, spending for Social Security, Medicare and Medicaid alone will be almost 60 percent of the entire federal budget.', 'NNP'), (u'And that will present future Congresses with impossible choices -- staggering tax increases, immense deficits, or deep cuts in every category of spending.', 'NNP'), (u'Congress did not act last year on my proposal to save Social Security -- (applause) -- yet the rising cost of entitlements is a problem that is not going away.', 'NNP'), (u'(Applause.)', 'NNP'), (u'And every year we fail to act, the situation gets worse.', 'NNP'), (u'So tonight, I ask you to join me in creating a commission to examine the full impact of baby boom retirements on Social Security, Medicare, and Medicaid.', 'NNP'), (u'This commission should include members of Congress of both parties, and offer bipartisan solutions.', 'NNP'), (u'We need to put aside partisan politics and work together and get this problem solved.', 'NNP'), (u'(Applause.)', 'NNP'), (u'Keeping America competitive requires us to open more markets for all that Americans make and grow.', 'NNP'), (u'One out of every five factory jobs in America is related to global trade, and we want people everywhere to buy American.', 'NNP'), (u'With open markets and a level playing field, no one can out-produce or out-compete the American worker.', 'NNP'), (u'(Applause.)', 'NNP'), (u'Keeping America competitive requires an immigration system that upholds our laws, reflects our values, and serves the interests of our economy.', 'NNP'), (u'Our nation needs orderly and secure borders.', 'NNP'), (u'(Applause.)', 'NNP'), (u'To meet this goal, we must have stronger immigration enforcement and border protection.', 'NNP'), (u'(Applause.)', 'NNP'), (u'And we must have a rational, humane guest worker program that rejects amnesty, allows temporary jobs for people who seek them legally, and reduces smuggling and crime at the border.', 'NNP'), (u'(Applause.)', 'NNP'), (u'Keeping America competitive requires affordable health care.', 'NNP'), (u'(Applause.)', 'NNP'), (u'Our government has a responsibility to provide health care for the poor and the elderly, and we are meeting that responsibility.', 'NNP'), (u'(Applause.)', 'NNP'), (u'For all Americans -- for all Americans, we must confront the rising cost of care, strengthen the doctor-patient relationship, and help people afford the insurance coverage they need.', 'NNP'), (u'(Applause.)', 'NNP'), (u'We will make wider use of electronic records and other health information technology, to help control costs and reduce dangerous medical errors.', 'NNP'), (u'We will strengthen health savings accounts -- making sure individuals and small business employees can buy insurance with the same advantages that people working for big businesses now get.', 'NNP'), (u'(Applause.)', 'NNP'), (u'We will do more to make this coverage portable, so workers can switch jobs without having to worry about losing their health insurance.', 'NNP'), (u'(Applause.)', 'NNP'), (u'And because lawsuits are driving many good doctors out of practice -- leaving women in nearly 1,500 American counties without a single OB/GYN -- I ask the Congress to pass medical liability reform this year.', 'NNP'), (u'(Applause.)', 'NNP'), (u'Keeping America competitive requires affordable energy.', 'NNP'), (u'And here we have a serious problem: America is addicted to oil, which is often imported from unstable parts of the world.', 'NNP'), (u'The best way to break this addiction is through technology.', 'NNP'), (u'Since 2001, we have spent nearly $10 billion to develop cleaner, cheaper, and more reliable alternative energy sources -- and we are on the threshold of incredible advances.', 'NNP'), (u'So tonight, I announce the Advanced Energy Initiative -- a 22-percent increase in clean-energy research -- at the Department of Energy, to push for breakthroughs in two vital areas.', 'NNP'), (u'To change how we power our homes and offices, we will invest more in zero-emission coal-fired plants, revolutionary solar and wind technologies, and clean, safe nuclear energy.', 'NNP'), (u'(Applause.)', 'NNP'), (u'We must also change how we power our automobiles.', 'NNP'), (u'We will increase our research in better batteries for hybrid and electric cars, and in pollution-free cars that run on hydrogen.', 'NNP'), (u\"We'll also fund additional research in cutting-edge methods of producing ethanol, not just from corn, but from wood chips and stalks, or switch grass.\", 'NNP'), (u'Our goal is to make this new kind of ethanol practical and competitive within six years.', 'NNP'), (u'(Applause.)', 'NNP'), (u'Breakthroughs on this and other new technologies will help us reach another great goal: to replace more than 75 percent of our oil imports from the Middle East by 2025.', 'NNP'), (u'(Applause.)', 'NNP'), (u'By applying the talent and technology of America, this country can dramatically improve our environment, move beyond a petroleum-based economy, and make our dependence on Middle Eastern oil a thing of the past.', 'NNP'), (u'(Applause.)', 'NNP'), (u'And to keep America competitive, one commitment is necessary above all: We must continue to lead the world in human talent and creativity.', 'NNP'), (u\"Our greatest advantage in the world has always been our educated, hardworking, ambitious people -- and we're going to keep that edge.\", 'NNP'), (u\"Tonight I announce an American Competitiveness Initiative, to encourage innovation throughout our economy, and to give our nation's children a firm grounding in math and science.\", 'NNP'), (u'(Applause.)', 'NNP'), (u'First, I propose to double the federal commitment to the most critical basic research programs in the physical sciences over the next 10 years.', 'NNP'), (u\"This funding will support the work of America's most creative minds as they explore promising areas such as nanotechnology, supercomputing, and alternative energy sources.\", 'NNP'), (u'Second, I propose to make permanent the research and development tax credit -- (applause) -- to encourage bolder private-sector initiatives in technology.', 'NNP'), (u'With more research in both the public and private sectors, we will improve our quality of life -- and ensure that America will lead the world in opportunity and innovation for decades to come.', 'NNP'), (u'(Applause.)', 'NNP'), (u'Third, we need to encourage children to take more math and science, and to make sure those courses are rigorous enough to compete with other nations.', 'NNP'), (u\"We've made a good start in the early grades with the No Child Left Behind Act, which is raising standards and lifting test scores across our country.\", 'NNP'), (u'Tonight I propose to train 70,000 high school teachers to lead advanced-placement courses in math and science, bring 30,000 math and science professionals to teach in classrooms, and give early help to students who struggle with math, so they have a better chance at good, high-wage jobs.', 'NNP'), (u\"If we ensure that America's children succeed in life, they will ensure that America succeeds in the world.\", 'NNP'), (u'(Applause.)', 'NNP'), (u'Preparing our nation to compete in the world is a goal that all of us can share.', 'NNP'), (u'I urge you to support the American Competitiveness Initiative, and together we will show the world what the American people can achieve.', 'NNP'), (u'America is a great force for freedom and prosperity.', 'NNP'), (u'Yet our greatness is not measured in power or luxuries, but by who we are and how we treat one another.', 'NNP'), (u'So we strive to be a compassionate, decent, hopeful society.', 'NNP'), (u'In recent years, America has become a more hopeful nation.', 'NNP'), (u'Violent crime rates have fallen to their lowest levels since the 1970s.', 'NNP'), (u'Welfare cases have dropped by more than half over the past decade.', 'NNP'), (u'Drug use among youth is down 19 percent since 2001.', 'NNP'), (u'There are fewer abortions in America than at any point in the last three decades, and the number of children born to teenage mothers has been falling for a dozen years in a row.', 'NNP'), (u'(Applause.)', 'NNP'), (u'These gains are evidence of a quiet transformation -- a revolution of conscience, in which a rising generation is finding that a life of personal responsibility is a life of fulfillment.', 'NNP'), (u'Government has played a role.', 'NNP'), (u'Wise policies, such as welfare reform and drug education and support for abstinence and adoption have made a difference in the character of our country.', 'NNP'), (u'And everyone here tonight, Democrat and Republican, has a right to be proud of this record.', 'NNP'), (u'(Applause.)', 'NNP'), (u'Yet many Americans, especially parents, still have deep concerns about the direction of our culture, and the health of our most basic institutions.', 'NNP'), (u\"They're concerned about unethical conduct by public officials, and discouraged by activist courts that try to redefine marriage.\", 'NNP'), (u'They worry about children in our society who need direction and love, and about fellow citizens still displaced by natural disaster, and about suffering caused by treatable diseases.', 'NNP'), (u'As we look at these challenges, we must never give in to the belief that America is in decline, or that our culture is doomed to unravel.', 'NNP'), (u'The American people know better than that.', 'NNP'), (u'We have proven the pessimists wrong before -- and we will do it again.', 'NNP'), (u'(Applause.)', 'NNP'), (u'A hopeful society depends on courts that deliver equal justice under the law.', 'NNP'), (u'The Supreme Court now has two superb new members -- new members on its bench: Chief Justice John Roberts and Justice Sam Alito.', 'NNP'), (u'(Applause.)', 'NNP'), (u'I thank the Senate for confirming both of them.', 'NNP'), (u'I will continue to nominate men and women who understand that judges must be servants of the law, and not legislate from the bench.', 'NNP'), (u'(Applause.)', 'NNP'), (u'Today marks the official retirement of a very special American.', 'NNP'), (u\"For 24 years of faithful service to our nation, the United States is grateful to Justice Sandra Day O'Connor.\", 'NNP'), (u'(Applause.)', 'NNP'), (u'A hopeful society has institutions of science and medicine that do not cut ethical corners, and that recognize the matchless value of every life.', 'NNP'), (u'Tonight I ask you to pass legislation to prohibit the most egregious abuses of medical research: human cloning in all its forms, creating or implanting embryos for experiments, creating human-animal hybrids, and buying, selling, or patenting human embryos.', 'NNP'), (u'Human life is a gift from our Creator -- and that gift should never be discarded, devalued or put up for sale.', 'NNP'), (u'(Applause.)', 'NNP'), (u'A hopeful society expects elected officials to uphold the public trust.', 'NNP'), (u'(Applause.)', 'NNP'), (u'Honorable people in both parties are working on reforms to strengthen the ethical standards of Washington -- I support your efforts.', 'NNP'), (u'Each of us has made a pledge to be worthy of public responsibility -- and that is a pledge we must never forget, never dismiss, and never betray.', 'NNP'), (u'(Applause.)', 'NNP'), (u'As we renew the promise of our institutions, let us also show the character of America in our compassion and care for one another.', 'NNP'), (u'A hopeful society gives special attention to children who lack direction and love.', 'NNP'), (u\"Through the Helping America's Youth Initiative, we are encouraging caring adults to get involved in the life of a child -- and this good work is being led by our First Lady, Laura Bush.\", 'NNP'), (u'(Applause.)', 'NNP'), (u\"This year we will add resources to encourage young people to stay in school, so more of America's youth can raise their sights and achieve their dreams.\", 'NNP'), (u\"A hopeful society comes to the aid of fellow citizens in times of suffering and emergency -- and stays at it until they're back on their feet.\", 'NNP'), (u'So far the federal government has committed $85 billion to the people of the Gulf Coast and New Orleans.', 'NNP'), (u\"We're removing debris and repairing highways and rebuilding stronger levees.\", 'NNP'), (u\"We're providing business loans and housing assistance.\", 'NNP'), (u'Yet as we meet these immediate needs, we must also address deeper challenges that existed before the storm arrived.', 'NNP'), (u'In New Orleans and in other places, many of our fellow citizens have felt excluded from the promise of our country.', 'NNP'), (u'The answer is not only temporary relief, but schools that teach every child, and job skills that bring upward mobility, and more opportunities to own a home and start a business.', 'NNP'), (u'As we recover from a disaster, let us also work for the day when all Americans are protected by justice, equal in hope, and rich in opportunity.', 'NNP'), (u'(Applause.)', 'NNP'), (u'A hopeful society acts boldly to fight diseases like HIV/AIDS, which can be prevented, and treated, and defeated.', 'NNP'), (u'More than a million Americans live with HIV, and half of all AIDS cases occur among African Americans.', 'NNP'), (u'I ask Congress to reform and reauthorize the Ryan White Act, and provide new funding to states, so we end the waiting lists for AIDS medicines in America.', 'NNP'), (u'(Applause.)', 'NNP'), (u'We will also lead a nationwide effort, working closely with African American churches and faith-based groups, to deliver rapid HIV tests to millions, end the stigma of AIDS, and come closer to the day when there are no new infections in America.', 'NNP'), (u'(Applause.)', 'NNP'), (u\"Fellow citizens, we've been called to leadership in a period of consequence.\", 'NNP'), (u\"We've entered a great ideological conflict we did nothing to invite.\", 'NNP'), (u'We see great changes in science and commerce that will influence all our lives.', 'NNP'), (u'Sometimes it can seem that history is turning in a wide arc, toward an unknown shore.', 'NNP'), (u'Yet the destination of history is determined by human action, and every great movement of history comes to a point of choosing.', 'NNP'), (u'Lincoln could have accepted peace at the cost of disunity and continued slavery.', 'NNP'), (u'Martin Luther King could have stopped at Birmingham or at Selma, and achieved only half a victory over segregation.', 'NNP'), (u'The United States could have accepted the permanent division of Europe, and been complicit in the oppression of others.', 'NNP'), (u'Today, having come far in our own historical journey, we must decide: Will we turn back, or finish well?', 'NNP'), (u'Before history is written down in books, it is written in courage.', 'NNP'), (u'Like Americans before us, we will show that courage and we will finish well.', 'NNP'), (u\"We will lead freedom's advance.\", 'NNP'), (u'We will compete and excel in the global economy.', 'NNP'), (u'We will renew the defining moral commitments of this land.', 'NNP'), (u'And so we move forward -- optimistic about our country, faithful to its cause, and confident of the victories to come.', 'NNP'), (u'May God bless America.', 'NNP'), (u'(Applause.)', 'NN')]\n"
     ]
    }
   ],
   "source": [
    "tagged = nltk.pos_tag(tokenized)\n",
    "print(tagged)\n",
    "\n",
    "\n"
   ]
  },
  {
   "cell_type": "code",
   "execution_count": 34,
   "metadata": {},
   "outputs": [
    {
     "name": "stdout",
     "output_type": "stream",
     "text": [
      "[(u'PRESIDENT', 'NNP'), (u'GEORGE', 'NNP'), (u'W.', 'NNP'), (u'BUSH', 'NNP'), (u\"'S\", 'POS'), (u'ADDRESS', 'NNP'), (u'BEFORE', 'IN'), (u'A', 'NNP'), (u'JOINT', 'NNP'), (u'SESSION', 'NNP'), (u'OF', 'IN'), (u'THE', 'NNP'), (u'CONGRESS', 'NNP'), (u'ON', 'NNP'), (u'THE', 'NNP'), (u'STATE', 'NNP'), (u'OF', 'IN'), (u'THE', 'NNP'), (u'UNION', 'NNP'), (u'January', 'NNP'), (u'31', 'CD'), (u',', ','), (u'2006', 'CD'), (u'THE', 'NNP'), (u'PRESIDENT', 'NNP'), (u':', ':'), (u'Thank', 'NNP'), (u'you', 'PRP'), (u'all', 'DT'), (u'.', '.')]\n",
      "[(u'Mr.', 'NNP'), (u'Speaker', 'NNP'), (u',', ','), (u'Vice', 'NNP'), (u'President', 'NNP'), (u'Cheney', 'NNP'), (u',', ','), (u'members', 'NNS'), (u'of', 'IN'), (u'Congress', 'NNP'), (u',', ','), (u'members', 'NNS'), (u'of', 'IN'), (u'the', 'DT'), (u'Supreme', 'NNP'), (u'Court', 'NNP'), (u'and', 'CC'), (u'diplomatic', 'JJ'), (u'corps', 'NN'), (u',', ','), (u'distinguished', 'JJ'), (u'guests', 'NNS'), (u',', ','), (u'and', 'CC'), (u'fellow', 'JJ'), (u'citizens', 'NNS'), (u':', ':'), (u'Today', 'VB'), (u'our', 'PRP$'), (u'nation', 'NN'), (u'lost', 'VBD'), (u'a', 'DT'), (u'beloved', 'VBN'), (u',', ','), (u'graceful', 'JJ'), (u',', ','), (u'courageous', 'JJ'), (u'woman', 'NN'), (u'who', 'WP'), (u'called', 'VBD'), (u'America', 'NNP'), (u'to', 'TO'), (u'its', 'PRP$'), (u'founding', 'NN'), (u'ideals', 'NNS'), (u'and', 'CC'), (u'carried', 'VBD'), (u'on', 'IN'), (u'a', 'DT'), (u'noble', 'JJ'), (u'dream', 'NN'), (u'.', '.')]\n",
      "[(u'Tonight', 'NN'), (u'we', 'PRP'), (u'are', 'VBP'), (u'comforted', 'VBN'), (u'by', 'IN'), (u'the', 'DT'), (u'hope', 'NN'), (u'of', 'IN'), (u'a', 'DT'), (u'glad', 'JJ'), (u'reunion', 'NN'), (u'with', 'IN'), (u'the', 'DT'), (u'husband', 'NN'), (u'who', 'WP'), (u'was', 'VBD'), (u'taken', 'VBN'), (u'so', 'RB'), (u'long', 'RB'), (u'ago', 'RB'), (u',', ','), (u'and', 'CC'), (u'we', 'PRP'), (u'are', 'VBP'), (u'grateful', 'JJ'), (u'for', 'IN'), (u'the', 'DT'), (u'good', 'JJ'), (u'life', 'NN'), (u'of', 'IN'), (u'Coretta', 'NNP'), (u'Scott', 'NNP'), (u'King', 'NNP'), (u'.', '.')]\n",
      "[(u'(', '('), (u'Applause', 'NNP'), (u'.', '.'), (u')', ')')]\n",
      "[(u'President', 'NNP'), (u'George', 'NNP'), (u'W.', 'NNP'), (u'Bush', 'NNP'), (u'reacts', 'VBZ'), (u'to', 'TO'), (u'applause', 'VB'), (u'during', 'IN'), (u'his', 'PRP$'), (u'State', 'NNP'), (u'of', 'IN'), (u'the', 'DT'), (u'Union', 'NNP'), (u'Address', 'NNP'), (u'at', 'IN'), (u'the', 'DT'), (u'Capitol', 'NNP'), (u',', ','), (u'Tuesday', 'NNP'), (u',', ','), (u'Jan', 'NNP'), (u'.', '.')]\n"
     ]
    }
   ],
   "source": [
    "def process_content():\n",
    "    try:\n",
    "        for i in tokenized[:5]:\n",
    "            words = nltk.word_tokenize(i)\n",
    "            tagged = nltk.pos_tag(words)\n",
    "            print(tagged)\n",
    "\n",
    "    except Exception as e:\n",
    "        print(str(e))\n",
    "\n",
    "\n",
    "process_content()"
   ]
  },
  {
   "cell_type": "markdown",
   "metadata": {},
   "source": [
    "## WordNet\n",
    "\n",
    "A large lexical database of English. Nouns, verbs, adjectives and adverbs are grouped into sets of cognitive synonyms (synsets), each expressing a distinct concept.\n"
   ]
  },
  {
   "cell_type": "code",
   "execution_count": 45,
   "metadata": {},
   "outputs": [
    {
     "name": "stdout",
     "output_type": "stream",
     "text": [
      "a symptom of some physical hurt or disorder\n",
      "[u'the patient developed severe pain and distension']\n"
     ]
    }
   ],
   "source": [
    "# WordNet® is a large lexical database of English. Nouns, verbs, adjectives and adverbs are grouped into sets of cognitive synonyms (synsets), each expressing a distinct concept.\n",
    "\n",
    "from nltk.corpus import wordnet\n",
    "syn = wordnet.synsets(\"pain\")\n",
    "print(syn[0].definition())\n",
    "print(syn[0].examples())\n",
    "\n",
    "\n",
    "\n"
   ]
  },
  {
   "cell_type": "code",
   "execution_count": 46,
   "metadata": {},
   "outputs": [
    {
     "name": "stdout",
     "output_type": "stream",
     "text": [
      "[u'large', u'big', u'big']\n"
     ]
    }
   ],
   "source": [
    "from nltk.corpus import wordnet\n",
    "antonyms = []\n",
    "for syn in wordnet.synsets(\"small\"):\n",
    "    for l in syn.lemmas():\n",
    "        if l.antonyms():\n",
    "            antonyms.append(l.antonyms()[0].name())\n",
    "print(antonyms)"
   ]
  },
  {
   "cell_type": "markdown",
   "metadata": {},
   "source": [
    "# Chunking"
   ]
  },
  {
   "cell_type": "code",
   "execution_count": null,
   "metadata": {},
   "outputs": [
    {
     "name": "stdout",
     "output_type": "stream",
     "text": [
      "(S\n",
      "  (Chunk PRESIDENT/NNP GEORGE/NNP W./NNP BUSH/NNP)\n",
      "  'S/POS\n",
      "  (Chunk ADDRESS/NNP)\n",
      "  BEFORE/IN\n",
      "  (Chunk A/NNP JOINT/NNP SESSION/NNP)\n",
      "  OF/IN\n",
      "  (Chunk THE/NNP CONGRESS/NNP ON/NNP THE/NNP STATE/NNP)\n",
      "  OF/IN\n",
      "  (Chunk THE/NNP UNION/NNP January/NNP)\n",
      "  31/CD\n",
      "  ,/,\n",
      "  2006/CD\n",
      "  (Chunk THE/NNP PRESIDENT/NNP)\n",
      "  :/:\n",
      "  (Chunk Thank/NNP)\n",
      "  you/PRP\n",
      "  all/DT\n",
      "  ./.)\n",
      "(Chunk PRESIDENT/NNP GEORGE/NNP W./NNP BUSH/NNP)\n",
      "(Chunk ADDRESS/NNP)\n",
      "(Chunk A/NNP JOINT/NNP SESSION/NNP)\n",
      "(Chunk THE/NNP CONGRESS/NNP ON/NNP THE/NNP STATE/NNP)\n",
      "(Chunk THE/NNP UNION/NNP January/NNP)\n",
      "(Chunk THE/NNP PRESIDENT/NNP)\n",
      "(Chunk Thank/NNP)\n",
      "(S\n",
      "  (Chunk Mr./NNP Speaker/NNP)\n",
      "  ,/,\n",
      "  (Chunk Vice/NNP President/NNP Cheney/NNP)\n",
      "  ,/,\n",
      "  members/NNS\n",
      "  of/IN\n",
      "  (Chunk Congress/NNP)\n",
      "  ,/,\n",
      "  members/NNS\n",
      "  of/IN\n",
      "  the/DT\n",
      "  (Chunk Supreme/NNP Court/NNP)\n",
      "  and/CC\n",
      "  diplomatic/JJ\n",
      "  corps/NN\n",
      "  ,/,\n",
      "  distinguished/JJ\n",
      "  guests/NNS\n",
      "  ,/,\n",
      "  and/CC\n",
      "  fellow/JJ\n",
      "  citizens/NNS\n",
      "  :/:\n",
      "  Today/VB\n",
      "  our/PRP$\n",
      "  nation/NN\n",
      "  lost/VBD\n",
      "  a/DT\n",
      "  beloved/VBN\n",
      "  ,/,\n",
      "  graceful/JJ\n",
      "  ,/,\n",
      "  courageous/JJ\n",
      "  woman/NN\n",
      "  who/WP\n",
      "  (Chunk called/VBD America/NNP)\n",
      "  to/TO\n",
      "  its/PRP$\n",
      "  founding/NN\n",
      "  ideals/NNS\n",
      "  and/CC\n",
      "  carried/VBD\n",
      "  on/IN\n",
      "  a/DT\n",
      "  noble/JJ\n",
      "  dream/NN\n",
      "  ./.)\n",
      "(Chunk Mr./NNP Speaker/NNP)\n",
      "(Chunk Vice/NNP President/NNP Cheney/NNP)\n",
      "(Chunk Congress/NNP)\n",
      "(Chunk Supreme/NNP Court/NNP)\n",
      "(Chunk called/VBD America/NNP)\n",
      "(S\n",
      "  Tonight/NN\n",
      "  we/PRP\n",
      "  are/VBP\n",
      "  comforted/VBN\n",
      "  by/IN\n",
      "  the/DT\n",
      "  hope/NN\n",
      "  of/IN\n",
      "  a/DT\n",
      "  glad/JJ\n",
      "  reunion/NN\n",
      "  with/IN\n",
      "  the/DT\n",
      "  husband/NN\n",
      "  who/WP\n",
      "  was/VBD\n",
      "  taken/VBN\n",
      "  so/RB\n",
      "  long/RB\n",
      "  ago/RB\n",
      "  ,/,\n",
      "  and/CC\n",
      "  we/PRP\n",
      "  are/VBP\n",
      "  grateful/JJ\n",
      "  for/IN\n",
      "  the/DT\n",
      "  good/JJ\n",
      "  life/NN\n",
      "  of/IN\n",
      "  (Chunk Coretta/NNP Scott/NNP King/NNP)\n",
      "  ./.)\n",
      "(Chunk Coretta/NNP Scott/NNP King/NNP)\n",
      "(S (/( (Chunk Applause/NNP) ./. )/))\n",
      "(Chunk Applause/NNP)\n",
      "(S\n",
      "  (Chunk President/NNP George/NNP W./NNP Bush/NNP)\n",
      "  reacts/VBZ\n",
      "  to/TO\n",
      "  applause/VB\n",
      "  during/IN\n",
      "  his/PRP$\n",
      "  (Chunk State/NNP)\n",
      "  of/IN\n",
      "  the/DT\n",
      "  (Chunk Union/NNP Address/NNP)\n",
      "  at/IN\n",
      "  the/DT\n",
      "  (Chunk Capitol/NNP)\n",
      "  ,/,\n",
      "  (Chunk Tuesday/NNP)\n",
      "  ,/,\n",
      "  (Chunk Jan/NNP)\n",
      "  ./.)\n",
      "(Chunk President/NNP George/NNP W./NNP Bush/NNP)\n",
      "(Chunk State/NNP)\n",
      "(Chunk Union/NNP Address/NNP)\n",
      "(Chunk Capitol/NNP)\n",
      "(Chunk Tuesday/NNP)\n",
      "(Chunk Jan/NNP)\n",
      "(S 31/CD ,/, 2006/CD ./.)\n"
     ]
    }
   ],
   "source": [
    "def process_content():\n",
    "    try:\n",
    "        for i in tokenized:\n",
    "            words = nltk.word_tokenize(i)\n",
    "            tagged = nltk.pos_tag(words)\n",
    "            chunkGram = r\"\"\"Chunk: {<RB.?>*<VB.?>*<NNP>+<NN>?}\"\"\"\n",
    "            chunkParser = nltk.RegexpParser(chunkGram)\n",
    "            chunked = chunkParser.parse(tagged)\n",
    "            \n",
    "            print(chunked)\n",
    "            for subtree in chunked.subtrees(filter=lambda t: t.label() == 'Chunk'):\n",
    "                print(subtree)\n",
    "\n",
    "            chunked.draw()\n",
    "\n",
    "    except Exception as e:\n",
    "        print(str(e))\n",
    "\n",
    "process_content()"
   ]
  },
  {
   "cell_type": "code",
   "execution_count": null,
   "metadata": {},
   "outputs": [],
   "source": []
  }
 ],
 "metadata": {
  "kernelspec": {
   "display_name": "Python 3 (ipykernel)",
   "language": "python",
   "name": "python3"
  },
  "language_info": {
   "codemirror_mode": {
    "name": "ipython",
    "version": 3
   },
   "file_extension": ".py",
   "mimetype": "text/x-python",
   "name": "python",
   "nbconvert_exporter": "python",
   "pygments_lexer": "ipython3",
   "version": "3.9.7"
  }
 },
 "nbformat": 4,
 "nbformat_minor": 2
}
